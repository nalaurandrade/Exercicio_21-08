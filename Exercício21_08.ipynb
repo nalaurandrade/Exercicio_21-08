{
  "nbformat": 4,
  "nbformat_minor": 0,
  "metadata": {
    "colab": {
      "provenance": [],
      "authorship_tag": "ABX9TyPeF2ecHWgrPGPtUi+pilAb",
      "include_colab_link": true
    },
    "kernelspec": {
      "name": "python3",
      "display_name": "Python 3"
    },
    "language_info": {
      "name": "python"
    }
  },
  "cells": [
    {
      "cell_type": "markdown",
      "metadata": {
        "id": "view-in-github",
        "colab_type": "text"
      },
      "source": [
        "<a href=\"https://colab.research.google.com/github/nalaurandrade/Exercicio_21-08/blob/main/Exerc%C3%ADcio21_08.ipynb\" target=\"_parent\"><img src=\"https://colab.research.google.com/assets/colab-badge.svg\" alt=\"Open In Colab\"/></a>"
      ]
    },
    {
      "cell_type": "code",
      "execution_count": null,
      "metadata": {
        "colab": {
          "base_uri": "https://localhost:8080/"
        },
        "id": "gMrU3ZsBpmC5",
        "outputId": "b5481ba7-9236-49f3-f5f1-a4b3b17346fd"
      },
      "outputs": [
        {
          "output_type": "stream",
          "name": "stdout",
          "text": [
            "2\n",
            "1\n",
            "5\n",
            "4\n"
          ]
        }
      ],
      "source": [
        "x=1\n",
        "y=1\n",
        "soma = x + y\n",
        "produto = x*y\n",
        "print(soma)\n",
        "print(produto)\n",
        "z=3\n",
        "var1 = (x +y) + z\n",
        "var2 = x*(y +z)\n",
        "print(var1)\n",
        "print(var2)"
      ]
    }
  ]
}