{
  "nbformat": 4,
  "nbformat_minor": 0,
  "metadata": {
    "colab": {
      "provenance": [],
      "authorship_tag": "ABX9TyMooqS2J/F3GR4oDF7APHqz",
      "include_colab_link": true
    },
    "kernelspec": {
      "name": "python3",
      "display_name": "Python 3"
    },
    "language_info": {
      "name": "python"
    }
  },
  "cells": [
    {
      "cell_type": "markdown",
      "metadata": {
        "id": "view-in-github",
        "colab_type": "text"
      },
      "source": [
        "<a href=\"https://colab.research.google.com/github/nalaurandrade/Exercicio_21-08/blob/main/Exerc%C3%ADcio21_08_2.ipynb\" target=\"_parent\"><img src=\"https://colab.research.google.com/assets/colab-badge.svg\" alt=\"Open In Colab\"/></a>"
      ]
    },
    {
      "cell_type": "code",
      "execution_count": 15,
      "metadata": {
        "id": "bXq3ARjjv9Y2"
      },
      "outputs": [],
      "source": [
        "x=1\n",
        "y=2\n",
        "z=3\n",
        "\n",
        "A1 = (x +y) + z\n",
        "A2 = x +y\n",
        "A4 = x +(-y)\n",
        "\n",
        "M1 = (x *y) *z\n",
        "M2 = x *y\n",
        "M4 = x *x^-1"
      ]
    }
  ]
}